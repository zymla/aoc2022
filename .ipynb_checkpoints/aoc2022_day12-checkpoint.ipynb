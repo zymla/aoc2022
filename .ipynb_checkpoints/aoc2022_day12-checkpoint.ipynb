{
 "cells": [
  {
   "cell_type": "code",
   "execution_count": 1,
   "id": "648532ec-615e-4093-8c12-1cdb1738e1da",
   "metadata": {},
   "outputs": [
    {
     "name": "stdout",
     "output_type": "stream",
     "text": [
      "time: 422 µs (started: 2022-12-13 13:54:41 +01:00)\n"
     ]
    }
   ],
   "source": [
    "import autotime\n",
    "%load_ext autotime"
   ]
  },
  {
   "cell_type": "raw",
   "id": "5ccbf44b-0131-4ee1-988d-b50c989c5454",
   "metadata": {},
   "source": [
    "--- Day 12: Hill Climbing Algorithm ---\n",
    "\n",
    "You try contacting the Elves using your handheld device, but the river you're following must be too low to get a decent signal.\n",
    "\n",
    "You ask the device for a heightmap of the surrounding area (your puzzle input). The heightmap shows the local area from above broken into a grid; the elevation of each square of the grid is given by a single lowercase letter, where a is the lowest elevation, b is the next-lowest, and so on up to the highest elevation, z.\n",
    "\n",
    "Also included on the heightmap are marks for your current position (S) and the location that should get the best signal (E). Your current position (S) has elevation a, and the location that should get the best signal (E) has elevation z.\n",
    "\n",
    "You'd like to reach E, but to save energy, you should do it in as few steps as possible. During each step, you can move exactly one square up, down, left, or right. To avoid needing to get out your climbing gear, the elevation of the destination square can be at most one higher than the elevation of your current square; that is, if your current elevation is m, you could step to elevation n, but not to elevation o. (This also means that the elevation of the destination square can be much lower than the elevation of your current square.)\n",
    "\n",
    "For example:\n",
    "\n",
    "Sabqponm\n",
    "abcryxxl\n",
    "accszExk\n",
    "acctuvwj\n",
    "abdefghi\n",
    "Here, you start in the top-left corner; your goal is near the middle. You could start by moving down or right, but eventually you'll need to head toward the e at the bottom. From there, you can spiral around to the goal:\n",
    "\n",
    "v..v<<<<\n",
    ">v.vv<<^\n",
    ".>vv>E^^\n",
    "..v>>>^^\n",
    "..>>>>>^\n",
    "In the above diagram, the symbols indicate whether the path exits each square moving up (^), down (v), left (<), or right (>). The location that should get the best signal is still E, and . marks unvisited squares.\n",
    "\n",
    "This path reaches the goal in 31 steps, the fewest possible.\n",
    "\n",
    "What is the fewest steps required to move from your current position to the location that should get the best signal?\n",
    "\n"
   ]
  },
  {
   "cell_type": "code",
   "execution_count": 2,
   "id": "302157dd-9efb-469c-9d56-f6bfaeb8c19c",
   "metadata": {},
   "outputs": [
    {
     "name": "stdout",
     "output_type": "stream",
     "text": [
      "time: 1.47 s (started: 2022-12-13 13:54:41 +01:00)\n"
     ]
    }
   ],
   "source": [
    "import pandas as pd\n",
    "import numpy as np\n",
    "import re\n",
    "import os\n",
    "import math\n",
    "import datetime\n",
    "from operator import itemgetter, attrgetter"
   ]
  },
  {
   "cell_type": "code",
   "execution_count": 3,
   "id": "6f869b1f-91e5-49c5-a2b5-7802dad9b28a",
   "metadata": {},
   "outputs": [
    {
     "data": {
      "text/plain": [
       "41"
      ]
     },
     "execution_count": 3,
     "metadata": {},
     "output_type": "execute_result"
    },
    {
     "name": "stdout",
     "output_type": "stream",
     "text": [
      "time: 34.4 ms (started: 2022-12-13 13:54:42 +01:00)\n"
     ]
    }
   ],
   "source": [
    "with open('input_day12.txt', 'rt') as f:\n",
    "    data = f.read()\n",
    "data=data.splitlines()\n",
    "len(data)"
   ]
  },
  {
   "cell_type": "code",
   "execution_count": 4,
   "id": "f0f3fa1c-0752-43f8-932b-4ccb41fef185",
   "metadata": {},
   "outputs": [
    {
     "name": "stdout",
     "output_type": "stream",
     "text": [
      "time: 12 ms (started: 2022-12-13 13:54:42 +01:00)\n"
     ]
    }
   ],
   "source": [
    "# Read through the question!!!\n",
    "data_n=[[ord(x) - ord('a') + 1 if x >= 'a' else (1 if x=='S' else 26) for x in r] for r in data]"
   ]
  },
  {
   "cell_type": "code",
   "execution_count": 5,
   "id": "a1ff5dfd-d798-43b2-b213-05ff7b4093d3",
   "metadata": {},
   "outputs": [
    {
     "name": "stdout",
     "output_type": "stream",
     "text": [
      "time: 565 µs (started: 2022-12-13 13:54:42 +01:00)\n"
     ]
    }
   ],
   "source": [
    "n=len(data)\n"
   ]
  },
  {
   "cell_type": "raw",
   "id": "c70041a1-4393-4b8f-b98b-f7afa5a0ddad",
   "metadata": {},
   "source": [
    "n=len(data_n)\n",
    "g={}\n",
    "for y,r in enumerate(data):\n",
    "    m=len(r)\n",
    "    for x,z in enumerate(r):\n",
    "        idx=f\"{x}_{y}\"\n",
    "        g[idx]=[]\n",
    "        if z=='S':\n",
    "            s=idx\n",
    "        if z=='E':\n",
    "            e=idx\n",
    "\n",
    "for y,r in enumerate(data_n):\n",
    "    m=len(r)\n",
    "    \n",
    "    for x,z in enumerate(r):\n",
    "        idx=f\"{x}_{y}\"\n",
    "        \n",
    "        if idx == e:\n",
    "            continue\n",
    "            \n",
    "        for i,j in [[0,1], [0,-1],[1,0], [-1,0]]:\n",
    "            if (0 <= x+i < m) and (0 <= y+j < n):\n",
    "                if (i!=0)+(j!=0)!=1:\n",
    "                    assert False\n",
    "                    continue\n",
    "                if data_n[y+j][x+i]-z <= 1:\n",
    "                    g[idx].append(f\"{x+i}_{y+j}\")\n",
    "\n",
    "s, e\n",
    "\n"
   ]
  },
  {
   "cell_type": "raw",
   "id": "2dbc542c-eb9f-4632-90c6-4137bae9650d",
   "metadata": {},
   "source": [
    "def get_x(idx):\n",
    "    return int(idx.split('_')[0])\n",
    "\n",
    "def get_y(idx):\n",
    "    return int(idx.split('_')[1])"
   ]
  },
  {
   "cell_type": "raw",
   "id": "77f91bf9-2cd1-4ed2-8065-cb60782577d4",
   "metadata": {},
   "source": [
    "visited = {idx: [] for idx in g}\n",
    "stack = [s]\n",
    "todo = [[*stack, x] for x in g[s]]\n",
    "i=0\n",
    "# depth-first\n",
    "while todo:\n",
    "    stack = todo.pop()\n",
    "\n",
    "    i+=1\n",
    "    if i % 10000 == 0:\n",
    "        print('.', end='')\n",
    "    \n",
    "    # add to visited\n",
    "    if visited[stack[-1]] and len(stack) > min((len(x) for x in visited[stack[-1]])):\n",
    "        continue\n",
    "        \n",
    "    if not visited[stack[-1]] or len(stack) < min((len(x) for x in visited[stack[-1]])):\n",
    "        visited[stack[-1]]=[stack.copy()]\n",
    "        if e==stack[-1]:\n",
    "            print(datetime.datetime.now().isoformat(), '!!!!!! E !!!!!', len(stack))\n",
    "        # add children to todo only if a shortest path to node just has been found\n",
    "    else:\n",
    "        visited[stack[-1]].append(stack.copy())\n",
    "\n",
    "    if g[stack[-1]]:\n",
    "        todo.extend([[*stack, x] for x in g[stack[-1]] if x not in stack])\n",
    "\n",
    "    \n"
   ]
  },
  {
   "cell_type": "raw",
   "id": "24c9b309-697c-46a5-a4da-6680b5ce4b87",
   "metadata": {},
   "source": [
    "([len(x)-1 for x in visited[e]])"
   ]
  },
  {
   "cell_type": "raw",
   "id": "0d588af3-dbb6-432c-8539-50bbc7216582",
   "metadata": {},
   "source": [
    "data_print=data.copy()\n",
    "data_print[get_y(e)]=data_print[get_y(e)].replace('E', '.')\n",
    "for idx in visited[e][0]:\n",
    "    data_print[get_y(idx)]=data_print[get_y(idx)][0:get_x(idx)]+data_print[get_y(idx)][get_x(idx)].upper()+data_print[get_y(idx)][get_x(idx)+1:]\n",
    "list(map(print, data_print))"
   ]
  },
  {
   "cell_type": "code",
   "execution_count": null,
   "id": "b68fe5ba-de21-4f1b-9ba0-7bab29ecd6e0",
   "metadata": {},
   "outputs": [],
   "source": []
  },
  {
   "cell_type": "code",
   "execution_count": 6,
   "id": "64f8fd51-9fea-449d-9849-ea00e951cd0e",
   "metadata": {},
   "outputs": [
    {
     "name": "stdout",
     "output_type": "stream",
     "text": [
      "time: 638 ms (started: 2022-12-13 13:54:42 +01:00)\n"
     ]
    }
   ],
   "source": [
    "import networkx as nx\n",
    "G = nx.DiGraph()"
   ]
  },
  {
   "cell_type": "code",
   "execution_count": 7,
   "id": "01397cb3-66a6-4d61-8d46-b27f9583e665",
   "metadata": {},
   "outputs": [
    {
     "data": {
      "text/plain": [
       "('0_20', '145_20')"
      ]
     },
     "execution_count": 7,
     "metadata": {},
     "output_type": "execute_result"
    },
    {
     "name": "stdout",
     "output_type": "stream",
     "text": [
      "time: 26.2 ms (started: 2022-12-13 13:54:43 +01:00)\n"
     ]
    }
   ],
   "source": [
    "n=len(data)\n",
    "for y,r in enumerate(data):\n",
    "    m=len(r)\n",
    "    for x,z in enumerate(r):\n",
    "        idx=f\"{x}_{y}\"\n",
    "        G.add_node(idx)\n",
    "        if z=='S':\n",
    "            s=idx\n",
    "        if z=='E':\n",
    "            e=idx\n",
    "s, e"
   ]
  },
  {
   "cell_type": "raw",
   "id": "fda570cc-d590-45b3-a021-d537aa73db14",
   "metadata": {},
   "source": [
    "n=len(data_n)\n",
    "for y,r in enumerate(data_n):\n",
    "    m=len(r)\n",
    "    for x,z in enumerate(r):\n",
    "        idx=f\"{x}_{y}\"\n",
    "        for j in [-1, 0, 1]:\n",
    "            if 0 <= y+j < n:\n",
    "                for i in [-1, 0 , 1]:\n",
    "                    if 0 <= x+i < m:\n",
    "                        if (i!=0)+(j!=0)!=1:\n",
    "                            continue\n",
    "                        if data_n[y+j][x+i]-z <= 1:\n",
    "#                            print(z,data_n[y+j][x+i]) \n",
    "                            G.add_edge(idx, f\"{x+i}_{y+j}\")"
   ]
  },
  {
   "cell_type": "code",
   "execution_count": 8,
   "id": "c0cff534-5db1-4a95-9cbc-a29c5c9e2626",
   "metadata": {},
   "outputs": [
    {
     "name": "stdout",
     "output_type": "stream",
     "text": [
      "time: 157 ms (started: 2022-12-13 13:54:43 +01:00)\n"
     ]
    }
   ],
   "source": [
    "n=len(data_n)\n",
    "for y,r in enumerate(data_n):\n",
    "    m=len(r)\n",
    "    for x,z in enumerate(r):\n",
    "        idx=f\"{x}_{y}\"\n",
    "        for i,j in [[0,1], [0,-1],[1,0], [-1,0]]:\n",
    "            if (0 <= x+i < m) and (0 <= y+j < n):\n",
    "                if (i!=0)+(j!=0)!=1:\n",
    "                    assert False\n",
    "                    continue\n",
    "                if data_n[y+j][x+i]-z <= 1:\n",
    "#                            print(z,data_n[y+j][x+i]) \n",
    "                    G.add_edge(idx, f\"{x+i}_{y+j}\")"
   ]
  },
  {
   "cell_type": "code",
   "execution_count": 9,
   "id": "8179c967-6d69-48c5-8ce4-bf7c7ea731b4",
   "metadata": {},
   "outputs": [
    {
     "data": {
      "text/plain": [
       "517"
      ]
     },
     "execution_count": 9,
     "metadata": {},
     "output_type": "execute_result"
    },
    {
     "name": "stdout",
     "output_type": "stream",
     "text": [
      "time: 32.8 ms (started: 2022-12-13 13:54:43 +01:00)\n"
     ]
    }
   ],
   "source": [
    "len([data[int(x[1])][int(x[0])] for x in [x.split('_') for x in nx.shortest_path(G, s, e, method=\"dijkstra\")]])-1"
   ]
  },
  {
   "cell_type": "raw",
   "id": "3c69d44b-5c39-493e-83f2-70ace75807d1",
   "metadata": {},
   "source": [
    "--- Part Two ---\n",
    "\n",
    "As you walk up the hill, you suspect that the Elves will want to turn this into a hiking trail. The beginning isn't very scenic, though; perhaps you can find a better starting point.\n",
    "\n",
    "To maximize exercise while hiking, the trail should start as low as possible: elevation a. The goal is still the square marked E. However, the trail should still be direct, taking the fewest steps to reach its goal. So, you'll need to find the shortest path from any square at elevation a to the square marked E.\n",
    "\n",
    "Again consider the example from above:\n",
    "\n",
    "Sabqponm\n",
    "abcryxxl\n",
    "accszExk\n",
    "acctuvwj\n",
    "abdefghi\n",
    "Now, there are six choices for starting position (five marked a, plus the square marked S that counts as being at elevation a). If you start at the bottom-left square, you can reach the goal most quickly:\n",
    "\n",
    "...v<<<<\n",
    "...vv<<^\n",
    "...v>E^^\n",
    ".>v>>>^^\n",
    ">^>>>>>^\n",
    "This path reaches the goal in only 29 steps, the fewest possible.\n",
    "\n",
    "What is the fewest steps required to move starting from any square with elevation a to the location that should get the best signal?"
   ]
  },
  {
   "cell_type": "code",
   "execution_count": 10,
   "id": "a1394d13-c6c8-46c7-9340-800609d15430",
   "metadata": {},
   "outputs": [
    {
     "name": "stdout",
     "output_type": "stream",
     "text": [
      "time: 7.17 ms (started: 2022-12-13 13:54:43 +01:00)\n"
     ]
    }
   ],
   "source": [
    "G = nx.DiGraph()"
   ]
  },
  {
   "cell_type": "code",
   "execution_count": 11,
   "id": "03b0e25e-8914-49bd-a4e5-a2af37447913",
   "metadata": {},
   "outputs": [
    {
     "data": {
      "text/plain": [
       "'145_20'"
      ]
     },
     "execution_count": 11,
     "metadata": {},
     "output_type": "execute_result"
    },
    {
     "name": "stdout",
     "output_type": "stream",
     "text": [
      "time: 31.4 ms (started: 2022-12-13 13:54:43 +01:00)\n"
     ]
    }
   ],
   "source": [
    "n=len(data)\n",
    "G.add_node('start')\n",
    "for y,r in enumerate(data):\n",
    "    m=len(r)\n",
    "    for x,z in enumerate(r):\n",
    "        idx=f\"{x}_{y}\"\n",
    "        G.add_node(idx)\n",
    "        if z=='E':\n",
    "            e=idx\n",
    "e"
   ]
  },
  {
   "cell_type": "code",
   "execution_count": 12,
   "id": "c911ff61-e130-4358-a2a9-885949d40889",
   "metadata": {},
   "outputs": [
    {
     "name": "stdout",
     "output_type": "stream",
     "text": [
      "time: 114 ms (started: 2022-12-13 13:54:43 +01:00)\n"
     ]
    }
   ],
   "source": [
    "n=len(data_n)\n",
    "for y,r in enumerate(data_n):\n",
    "    m=len(r)\n",
    "    for x,z in enumerate(r):\n",
    "        idx=f\"{x}_{y}\"\n",
    "        if z == 1:\n",
    "            G.add_edge('start', idx)\n",
    "        for i,j in [[0,1], [0,-1],[1,0], [-1,0]]:\n",
    "            if (0 <= x+i < m) and (0 <= y+j < n):\n",
    "                if (i!=0)+(j!=0)!=1:\n",
    "                    assert False\n",
    "                    continue\n",
    "                if data_n[y+j][x+i]-z <= 1:\n",
    "#                            print(z,data_n[y+j][x+i]) \n",
    "                    G.add_edge(idx, f\"{x+i}_{y+j}\")"
   ]
  },
  {
   "cell_type": "code",
   "execution_count": 13,
   "id": "d30dee2c-6a54-4958-a687-8c3aed2e1f0c",
   "metadata": {},
   "outputs": [
    {
     "data": {
      "text/plain": [
       "512"
      ]
     },
     "execution_count": 13,
     "metadata": {},
     "output_type": "execute_result"
    },
    {
     "name": "stdout",
     "output_type": "stream",
     "text": [
      "time: 22.4 ms (started: 2022-12-13 13:54:43 +01:00)\n"
     ]
    }
   ],
   "source": [
    "len([data[int(x[1])][int(x[0])] for x in [x.split('_') for x in nx.shortest_path(G, 'start', e, method=\"dijkstra\") if '_' in x]])-1"
   ]
  },
  {
   "cell_type": "code",
   "execution_count": 14,
   "id": "894024af-d56d-4d74-8734-5e543dfc636c",
   "metadata": {},
   "outputs": [
    {
     "data": {
      "text/plain": [
       "512"
      ]
     },
     "execution_count": 14,
     "metadata": {},
     "output_type": "execute_result"
    },
    {
     "name": "stdout",
     "output_type": "stream",
     "text": [
      "time: 28.1 ms (started: 2022-12-13 13:54:43 +01:00)\n"
     ]
    }
   ],
   "source": [
    "len(nx.shortest_path(G, 'start', e, method=\"dijkstra\"))-2"
   ]
  },
  {
   "cell_type": "code",
   "execution_count": null,
   "id": "99aa8c5a-7c24-47b8-b16c-0ad36ee1c23c",
   "metadata": {},
   "outputs": [],
   "source": []
  }
 ],
 "metadata": {
  "kernelspec": {
   "display_name": "Python 3 (ipykernel)",
   "language": "python",
   "name": "python3"
  },
  "language_info": {
   "codemirror_mode": {
    "name": "ipython",
    "version": 3
   },
   "file_extension": ".py",
   "mimetype": "text/x-python",
   "name": "python",
   "nbconvert_exporter": "python",
   "pygments_lexer": "ipython3",
   "version": "3.10.7"
  }
 },
 "nbformat": 4,
 "nbformat_minor": 5
}
