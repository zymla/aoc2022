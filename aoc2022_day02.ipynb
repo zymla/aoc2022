{
 "cells": [
  {
   "cell_type": "raw",
   "id": "86bb141a-69ae-4530-bf43-0e1fdb65ad48",
   "metadata": {},
   "source": [
    "--- Day 2: Rock Paper Scissors ---\n",
    "\n",
    "The Elves begin to set up camp on the beach. To decide whose tent gets to be closest to the snack storage, a giant Rock Paper Scissors tournament is already in progress.\n",
    "\n",
    "Rock Paper Scissors is a game between two players. Each game contains many rounds; in each round, the players each simultaneously choose one of Rock, Paper, or Scissors using a hand shape. Then, a winner for that round is selected: Rock defeats Scissors, Scissors defeats Paper, and Paper defeats Rock. If both players choose the same shape, the round instead ends in a draw.\n",
    "\n",
    "Appreciative of your help yesterday, one Elf gives you an encrypted strategy guide (your puzzle input) that they say will be sure to help you win. \"The first column is what your opponent is going to play: A for Rock, B for Paper, and C for Scissors. The second column--\" Suddenly, the Elf is called away to help with someone's tent.\n",
    "\n",
    "The second column, you reason, must be what you should play in response: X for Rock, Y for Paper, and Z for Scissors. Winning every time would be suspicious, so the responses must have been carefully chosen.\n",
    "\n",
    "The winner of the whole tournament is the player with the highest score. Your total score is the sum of your scores for each round. The score for a single round is the score for the shape you selected (1 for Rock, 2 for Paper, and 3 for Scissors) plus the score for the outcome of the round (0 if you lost, 3 if the round was a draw, and 6 if you won).\n",
    "\n",
    "Since you can't be sure if the Elf is trying to help you or trick you, you should calculate the score you would get if you were to follow the strategy guide.\n",
    "\n",
    "For example, suppose you were given the following strategy guide:\n",
    "\n",
    "A Y\n",
    "B X\n",
    "C Z\n",
    "This strategy guide predicts and recommends the following:\n",
    "\n",
    "In the first round, your opponent will choose Rock (A), and you should choose Paper (Y). This ends in a win for you with a score of 8 (2 because you chose Paper + 6 because you won).\n",
    "In the second round, your opponent will choose Paper (B), and you should choose Rock (X). This ends in a loss for you with a score of 1 (1 + 0).\n",
    "The third round is a draw with both players choosing Scissors, giving you a score of 3 + 3 = 6.\n",
    "In this example, if you were to follow the strategy guide, you would get a total score of 15 (8 + 1 + 6).\n",
    "\n",
    "What would your total score be if everything goes exactly according to your strategy guide?"
   ]
  },
  {
   "cell_type": "code",
   "execution_count": 1,
   "id": "063cdacb-ad97-43aa-91d0-addc9358caaf",
   "metadata": {},
   "outputs": [],
   "source": [
    "import pandas as pd\n",
    "import numpy as np\n",
    "import re\n",
    "import os"
   ]
  },
  {
   "cell_type": "code",
   "execution_count": 30,
   "id": "3da12b8b-d131-485c-bcf4-5fe485583a47",
   "metadata": {},
   "outputs": [
    {
     "data": {
      "text/plain": [
       "10000"
      ]
     },
     "execution_count": 30,
     "metadata": {},
     "output_type": "execute_result"
    }
   ],
   "source": [
    "with open('input_day02.txt', 'rt') as f:\n",
    "    input = f.read()\n",
    "len(input)"
   ]
  },
  {
   "cell_type": "code",
   "execution_count": 32,
   "id": "c6651aef-6e80-4342-9b9e-24ca72deb651",
   "metadata": {},
   "outputs": [
    {
     "name": "stdout",
     "output_type": "stream",
     "text": [
      "A Z\n",
      "A Z\n",
      "C Y\n",
      "A X\n",
      "A X\n",
      "A Z\n",
      "C X\n",
      "A X\n",
      "C Y\n",
      "A Z\n",
      "B Y\n",
      "B Y\n",
      "C \n"
     ]
    }
   ],
   "source": [
    "print(input[0:50])"
   ]
  },
  {
   "cell_type": "code",
   "execution_count": 43,
   "id": "f6836695-46de-4ac7-a89c-429a1371a00d",
   "metadata": {},
   "outputs": [],
   "source": [
    "def winnings(x):\n",
    "    x=x.replace(' ', '')\n",
    "    opponent=ord(x[0])-ord('A')\n",
    "    me=ord(x[1])-ord('X')\n",
    "    return ((me-opponent+1)%3)*3+me+1"
   ]
  },
  {
   "cell_type": "code",
   "execution_count": 44,
   "id": "9b624101-237d-4fba-a20a-0ba99e4552d5",
   "metadata": {},
   "outputs": [
    {
     "data": {
      "text/plain": [
       "12855"
      ]
     },
     "execution_count": 44,
     "metadata": {},
     "output_type": "execute_result"
    }
   ],
   "source": [
    "sum(winnings(x) for x in input.splitlines())"
   ]
  },
  {
   "cell_type": "raw",
   "id": "d9005a1c-d29f-4bed-b71d-9b56979d18a1",
   "metadata": {},
   "source": [
    "--- Part Two ---\n",
    "\n",
    "The Elf finishes helping with the tent and sneaks back over to you. \"Anyway, the second column says how the round needs to end: X means you need to lose, Y means you need to end the round in a draw, and Z means you need to win. Good luck!\"\n",
    "\n",
    "The total score is still calculated in the same way, but now you need to figure out what shape to choose so the round ends as indicated. The example above now goes like this:\n",
    "\n",
    "In the first round, your opponent will choose Rock (A), and you need the round to end in a draw (Y), so you also choose Rock. This gives you a score of 1 + 3 = 4.\n",
    "In the second round, your opponent will choose Paper (B), and you choose Rock so you lose (X) with a score of 1 + 0 = 1.\n",
    "In the third round, you will defeat your opponent's Scissors with Rock for a score of 1 + 6 = 7.\n",
    "Now that you're correctly decrypting the ultra top secret strategy guide, you would get a total score of 12.\n",
    "\n",
    "Following the Elf's instructions for the second column, what would your total score be if everything goes exactly according to your strategy guide?\n",
    "\n"
   ]
  },
  {
   "cell_type": "code",
   "execution_count": 39,
   "id": "e8d1bf95-81c8-46b3-b556-46ff2f518941",
   "metadata": {},
   "outputs": [],
   "source": [
    "def winnings_2(x):\n",
    "    x=x.replace(' ', '')\n",
    "    opponent=ord(x[0])-ord('A')\n",
    "    me=(opponent+(ord(x[1])-ord('X'))-1) % 3\n",
    "    return ((me-opponent+1)%3)*3+me+1"
   ]
  },
  {
   "cell_type": "code",
   "execution_count": 40,
   "id": "bbdaf356-2b92-42d0-87b5-21aba30eedb1",
   "metadata": {},
   "outputs": [
    {
     "data": {
      "text/plain": [
       "13726"
      ]
     },
     "execution_count": 40,
     "metadata": {},
     "output_type": "execute_result"
    }
   ],
   "source": [
    "sum(winnings_2(x) for x in input.splitlines())"
   ]
  },
  {
   "cell_type": "code",
   "execution_count": null,
   "id": "44dc603b-79d8-44ce-ad0e-e027e5db6f48",
   "metadata": {},
   "outputs": [],
   "source": []
  }
 ],
 "metadata": {
  "kernelspec": {
   "display_name": "Python 3 (ipykernel)",
   "language": "python",
   "name": "python3"
  },
  "language_info": {
   "codemirror_mode": {
    "name": "ipython",
    "version": 3
   },
   "file_extension": ".py",
   "mimetype": "text/x-python",
   "name": "python",
   "nbconvert_exporter": "python",
   "pygments_lexer": "ipython3",
   "version": "3.10.7"
  }
 },
 "nbformat": 4,
 "nbformat_minor": 5
}
