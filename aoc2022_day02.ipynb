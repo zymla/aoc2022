{
 "cells": [
  {
   "cell_type": "code",
   "execution_count": 1,
   "id": "063cdacb-ad97-43aa-91d0-addc9358caaf",
   "metadata": {},
   "outputs": [],
   "source": [
    "import pandas as pd\n",
    "import numpy as np\n",
    "import re\n",
    "import os"
   ]
  },
  {
   "cell_type": "code",
   "execution_count": 30,
   "id": "3da12b8b-d131-485c-bcf4-5fe485583a47",
   "metadata": {},
   "outputs": [
    {
     "data": {
      "text/plain": [
       "10000"
      ]
     },
     "execution_count": 30,
     "metadata": {},
     "output_type": "execute_result"
    }
   ],
   "source": [
    "with open('input_day02.txt', 'rt') as f:\n",
    "    input = f.read()\n",
    "len(input)"
   ]
  },
  {
   "cell_type": "code",
   "execution_count": 32,
   "id": "c6651aef-6e80-4342-9b9e-24ca72deb651",
   "metadata": {},
   "outputs": [
    {
     "name": "stdout",
     "output_type": "stream",
     "text": [
      "A Z\n",
      "A Z\n",
      "C Y\n",
      "A X\n",
      "A X\n",
      "A Z\n",
      "C X\n",
      "A X\n",
      "C Y\n",
      "A Z\n",
      "B Y\n",
      "B Y\n",
      "C \n"
     ]
    }
   ],
   "source": [
    "print(input[0:50])"
   ]
  },
  {
   "cell_type": "code",
   "execution_count": 43,
   "id": "f6836695-46de-4ac7-a89c-429a1371a00d",
   "metadata": {},
   "outputs": [],
   "source": [
    "def winnings(x):\n",
    "    x=x.replace(' ', '')\n",
    "    opponent=ord(x[0])-ord('A')\n",
    "    me=ord(x[1])-ord('X')\n",
    "    return ((me-opponent+1)%3)*3+me+1"
   ]
  },
  {
   "cell_type": "code",
   "execution_count": 44,
   "id": "9b624101-237d-4fba-a20a-0ba99e4552d5",
   "metadata": {},
   "outputs": [
    {
     "data": {
      "text/plain": [
       "12855"
      ]
     },
     "execution_count": 44,
     "metadata": {},
     "output_type": "execute_result"
    }
   ],
   "source": [
    "sum(winnings(x) for x in input.splitlines())"
   ]
  },
  {
   "cell_type": "code",
   "execution_count": 39,
   "id": "e8d1bf95-81c8-46b3-b556-46ff2f518941",
   "metadata": {},
   "outputs": [],
   "source": [
    "def winnings_2(x):\n",
    "    x=x.replace(' ', '')\n",
    "    opponent=ord(x[0])-ord('A')\n",
    "    me=(opponent+(ord(x[1])-ord('X'))-1) % 3\n",
    "    return ((me-opponent+1)%3)*3+me+1"
   ]
  },
  {
   "cell_type": "code",
   "execution_count": 40,
   "id": "bbdaf356-2b92-42d0-87b5-21aba30eedb1",
   "metadata": {},
   "outputs": [
    {
     "data": {
      "text/plain": [
       "13726"
      ]
     },
     "execution_count": 40,
     "metadata": {},
     "output_type": "execute_result"
    }
   ],
   "source": [
    "sum(winnings_2(x) for x in input.splitlines())"
   ]
  },
  {
   "cell_type": "code",
   "execution_count": null,
   "id": "44dc603b-79d8-44ce-ad0e-e027e5db6f48",
   "metadata": {},
   "outputs": [],
   "source": []
  }
 ],
 "metadata": {
  "kernelspec": {
   "display_name": "Python 3 (ipykernel)",
   "language": "python",
   "name": "python3"
  },
  "language_info": {
   "codemirror_mode": {
    "name": "ipython",
    "version": 3
   },
   "file_extension": ".py",
   "mimetype": "text/x-python",
   "name": "python",
   "nbconvert_exporter": "python",
   "pygments_lexer": "ipython3",
   "version": "3.10.7"
  }
 },
 "nbformat": 4,
 "nbformat_minor": 5
}
