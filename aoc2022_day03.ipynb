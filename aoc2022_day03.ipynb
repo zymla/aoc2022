{
 "cells": [
  {
   "cell_type": "raw",
   "id": "6bbd5ca6-65bd-4e8d-ab75-170474385cfa",
   "metadata": {},
   "source": [
    "--- Day 3: Rucksack Reorganization ---\n",
    "\n",
    "One Elf has the important job of loading all of the rucksacks with supplies for the jungle journey. Unfortunately, that Elf didn't quite follow the packing instructions, and so a few items now need to be rearranged.\n",
    "\n",
    "Each rucksack has two large compartments. All items of a given type are meant to go into exactly one of the two compartments. The Elf that did the packing failed to follow this rule for exactly one item type per rucksack.\n",
    "\n",
    "The Elves have made a list of all of the items currently in each rucksack (your puzzle input), but they need your help finding the errors. Every item type is identified by a single lowercase or uppercase letter (that is, a and A refer to different types of items).\n",
    "\n",
    "The list of items for each rucksack is given as characters all on a single line. A given rucksack always has the same number of items in each of its two compartments, so the first half of the characters represent items in the first compartment, while the second half of the characters represent items in the second compartment.\n",
    "\n",
    "For example, suppose you have the following list of contents from six rucksacks:\n",
    "\n",
    "vJrwpWtwJgWrhcsFMMfFFhFp\n",
    "jqHRNqRjqzjGDLGLrsFMfFZSrLrFZsSL\n",
    "PmmdzqPrVvPwwTWBwg\n",
    "wMqvLMZHhHMvwLHjbvcjnnSBnvTQFn\n",
    "ttgJtRGJQctTZtZT\n",
    "CrZsJsPPZsGzwwsLwLmpwMDw\n",
    "The first rucksack contains the items vJrwpWtwJgWrhcsFMMfFFhFp, which means its first compartment contains the items vJrwpWtwJgWr, while the second compartment contains the items hcsFMMfFFhFp. The only item type that appears in both compartments is lowercase p.\n",
    "The second rucksack's compartments contain jqHRNqRjqzjGDLGL and rsFMfFZSrLrFZsSL. The only item type that appears in both compartments is uppercase L.\n",
    "The third rucksack's compartments contain PmmdzqPrV and vPwwTWBwg; the only common item type is uppercase P.\n",
    "The fourth rucksack's compartments only share item type v.\n",
    "The fifth rucksack's compartments only share item type t.\n",
    "The sixth rucksack's compartments only share item type s.\n",
    "To help prioritize item rearrangement, every item type can be converted to a priority:\n",
    "\n",
    "Lowercase item types a through z have priorities 1 through 26.\n",
    "Uppercase item types A through Z have priorities 27 through 52.\n",
    "In the above example, the priority of the item type that appears in both compartments of each rucksack is 16 (p), 38 (L), 42 (P), 22 (v), 20 (t), and 19 (s); the sum of these is 157.\n",
    "\n",
    "Find the item type that appears in both compartments of each rucksack. What is the sum of the priorities of those item types?"
   ]
  },
  {
   "cell_type": "code",
   "execution_count": 1,
   "id": "bef5510c-9792-41af-ba85-a863b2954b5d",
   "metadata": {},
   "outputs": [],
   "source": [
    "import pandas as pd\n",
    "import numpy as np\n",
    "import re\n",
    "import os\n",
    "import math"
   ]
  },
  {
   "cell_type": "code",
   "execution_count": 2,
   "id": "b0010d44-9f4a-4fa5-9123-71a909116152",
   "metadata": {},
   "outputs": [
    {
     "data": {
      "text/plain": [
       "['LHLRlCCvCLVgHPfCHtVjBGrBDNzWFBsBGBfscGsD',\n",
       " 'nQwbnwwpbrJBrNWB',\n",
       " 'hmnSdSdQpTpdnlPdvddPNglLjH',\n",
       " 'RZhwpDsNqVmQClwl',\n",
       " 'TLJfLTPqcvTrvvLMLMlVzzvVVQQtmQCmtzmV',\n",
       " 'MJjccdfTMcbqjNSRSZsSDZ',\n",
       " 'LLrNNqCTCwLTttwcNctqFGmRBSBjzjbSzbBbjNbzjB',\n",
       " 'GnhhZQPDGdldgQmQSjpzjzQssb',\n",
       " 'gDJZPMnPnhlhJWhZntLCLcTqVMLrGVtMfM',\n",
       " 'rrBgDBGnVnffDnfQQqngJhhSRQvhhCRRRSZbRpRzwQ']"
      ]
     },
     "execution_count": 2,
     "metadata": {},
     "output_type": "execute_result"
    }
   ],
   "source": [
    "with open('input_day03.txt', 'rt') as f:\n",
    "    input = f.read()\n",
    "input=input.splitlines()\n",
    "len(input)\n",
    "input[0:10]"
   ]
  },
  {
   "cell_type": "code",
   "execution_count": 3,
   "id": "f1fe5793-4a03-4160-ad48-9b812888d782",
   "metadata": {},
   "outputs": [],
   "source": [
    "def common(r):\n",
    "    c1=r[0:len(r)//2]\n",
    "    c2=r[len(r)//2:]\n",
    "    return set(list(c1))&set(list(c2))"
   ]
  },
  {
   "cell_type": "code",
   "execution_count": 4,
   "id": "a8c0873b-4748-4e92-9150-794c18765815",
   "metadata": {},
   "outputs": [
    {
     "data": {
      "text/plain": [
       "{'b'}"
      ]
     },
     "execution_count": 4,
     "metadata": {},
     "output_type": "execute_result"
    }
   ],
   "source": [
    "common(input[1])"
   ]
  },
  {
   "cell_type": "code",
   "execution_count": 5,
   "id": "f90b21c0-0802-42aa-9a45-bb501fbf6ffd",
   "metadata": {},
   "outputs": [],
   "source": [
    "def prio(c):\n",
    "    if 'a' <= c <= 'z':\n",
    "        return ord(c)-ord('a')+1\n",
    "    else:\n",
    "        return ord(c)-ord('A')+27"
   ]
  },
  {
   "cell_type": "code",
   "execution_count": 6,
   "id": "82ae20f4-aa88-4bc1-a75e-8bb7f22cc69d",
   "metadata": {},
   "outputs": [
    {
     "data": {
      "text/plain": [
       "7581"
      ]
     },
     "execution_count": 6,
     "metadata": {},
     "output_type": "execute_result"
    }
   ],
   "source": [
    "sum([sum(prio(c) for c in common(r)) for r in input])"
   ]
  },
  {
   "cell_type": "raw",
   "id": "b943a403-67b5-4921-b82e-08e87b5473cd",
   "metadata": {},
   "source": [
    "--- Part Two ---\n",
    "\n",
    "As you finish identifying the misplaced items, the Elves come to you with another issue.\n",
    "\n",
    "For safety, the Elves are divided into groups of three. Every Elf carries a badge that identifies their group. For efficiency, within each group of three Elves, the badge is the only item type carried by all three Elves. That is, if a group's badge is item type B, then all three Elves will have item type B somewhere in their rucksack, and at most two of the Elves will be carrying any other item type.\n",
    "\n",
    "The problem is that someone forgot to put this year's updated authenticity sticker on the badges. All of the badges need to be pulled out of the rucksacks so the new authenticity stickers can be attached.\n",
    "\n",
    "Additionally, nobody wrote down which item type corresponds to each group's badges. The only way to tell which item type is the right one is by finding the one item type that is common between all three Elves in each group.\n",
    "\n",
    "Every set of three lines in your list corresponds to a single group, but each group can have a different badge item type. So, in the above example, the first group's rucksacks are the first three lines:\n",
    "\n",
    "vJrwpWtwJgWrhcsFMMfFFhFp\n",
    "jqHRNqRjqzjGDLGLrsFMfFZSrLrFZsSL\n",
    "PmmdzqPrVvPwwTWBwg\n",
    "And the second group's rucksacks are the next three lines:\n",
    "\n",
    "wMqvLMZHhHMvwLHjbvcjnnSBnvTQFn\n",
    "ttgJtRGJQctTZtZT\n",
    "CrZsJsPPZsGzwwsLwLmpwMDw\n",
    "In the first group, the only item type that appears in all three rucksacks is lowercase r; this must be their badges. In the second group, their badge item type must be Z.\n",
    "\n",
    "Priorities for these items must still be found to organize the sticker attachment efforts: here, they are 18 (r) for the first group and 52 (Z) for the second group. The sum of these is 70.\n",
    "\n",
    "Find the item type that corresponds to the badges of each three-Elf group. What is the sum of the priorities of those item types?"
   ]
  },
  {
   "cell_type": "code",
   "execution_count": 7,
   "id": "1faa9296-8984-4b9c-85a2-66ebcc345b2e",
   "metadata": {},
   "outputs": [
    {
     "data": {
      "text/plain": [
       "[['LHLRlCCvCLVgHPfCHtVjBGrBDNzWFBsBGBfscGsD',\n",
       "  'nQwbnwwpbrJBrNWB',\n",
       "  'hmnSdSdQpTpdnlPdvddPNglLjH'],\n",
       " ['RZhwpDsNqVmQClwl',\n",
       "  'TLJfLTPqcvTrvvLMLMlVzzvVVQQtmQCmtzmV',\n",
       "  'MJjccdfTMcbqjNSRSZsSDZ'],\n",
       " ['LLrNNqCTCwLTttwcNctqFGmRBSBjzjbSzbBbjNbzjB',\n",
       "  'GnhhZQPDGdldgQmQSjpzjzQssb',\n",
       "  'gDJZPMnPnhlhJWhZntLCLcTqVMLrGVtMfM']]"
      ]
     },
     "execution_count": 7,
     "metadata": {},
     "output_type": "execute_result"
    }
   ],
   "source": [
    "groups=[input[i*3:i*3+3] for i in range(len(input)//3)]\n",
    "groups[0:3]"
   ]
  },
  {
   "cell_type": "code",
   "execution_count": 8,
   "id": "b9c4c1d3-4c2e-43c3-b0d9-bf672509be4e",
   "metadata": {},
   "outputs": [
    {
     "data": {
      "text/plain": [
       "2525"
      ]
     },
     "execution_count": 8,
     "metadata": {},
     "output_type": "execute_result"
    }
   ],
   "source": [
    "sum([sum(prio(c) for c in set(list(g[0]))&set(list(g[1]))&set(list(g[2]))) for g in groups])"
   ]
  },
  {
   "cell_type": "code",
   "execution_count": null,
   "id": "db9560bc-c6f5-47ca-83a9-dcaa53942530",
   "metadata": {},
   "outputs": [],
   "source": []
  }
 ],
 "metadata": {
  "kernelspec": {
   "display_name": "Python 3 (ipykernel)",
   "language": "python",
   "name": "python3"
  },
  "language_info": {
   "codemirror_mode": {
    "name": "ipython",
    "version": 3
   },
   "file_extension": ".py",
   "mimetype": "text/x-python",
   "name": "python",
   "nbconvert_exporter": "python",
   "pygments_lexer": "ipython3",
   "version": "3.10.7"
  }
 },
 "nbformat": 4,
 "nbformat_minor": 5
}
