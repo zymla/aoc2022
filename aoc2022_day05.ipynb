{
 "cells": [
  {
   "cell_type": "raw",
   "id": "5ccbf44b-0131-4ee1-988d-b50c989c5454",
   "metadata": {},
   "source": [
    "--- Day 5: Supply Stacks ---\n",
    "\n",
    "The expedition can depart as soon as the final supplies have been unloaded from the ships. Supplies are stored in stacks of marked crates, but because the needed supplies are buried under many other crates, the crates need to be rearranged.\n",
    "\n",
    "The ship has a giant cargo crane capable of moving crates between stacks. To ensure none of the crates get crushed or fall over, the crane operator will rearrange them in a series of carefully-planned steps. After the crates are rearranged, the desired crates will be at the top of each stack.\n",
    "\n",
    "The Elves don't want to interrupt the crane operator during this delicate procedure, but they forgot to ask her which crate will end up where, and they want to be ready to unload them as soon as possible so they can embark.\n",
    "\n",
    "They do, however, have a drawing of the starting stacks of crates and the rearrangement procedure (your puzzle input). For example:\n",
    "\n",
    "    [D]    \n",
    "[N] [C]    \n",
    "[Z] [M] [P]\n",
    " 1   2   3 \n",
    "\n",
    "move 1 from 2 to 1\n",
    "move 3 from 1 to 3\n",
    "move 2 from 2 to 1\n",
    "move 1 from 1 to 2\n",
    "In this example, there are three stacks of crates. Stack 1 contains two crates: crate Z is on the bottom, and crate N is on top. Stack 2 contains three crates; from bottom to top, they are crates M, C, and D. Finally, stack 3 contains a single crate, P.\n",
    "\n",
    "Then, the rearrangement procedure is given. In each step of the procedure, a quantity of crates is moved from one stack to a different stack. In the first step of the above rearrangement procedure, one crate is moved from stack 2 to stack 1, resulting in this configuration:\n",
    "\n",
    "[D]        \n",
    "[N] [C]    \n",
    "[Z] [M] [P]\n",
    " 1   2   3 \n",
    "In the second step, three crates are moved from stack 1 to stack 3. Crates are moved one at a time, so the first crate to be moved (D) ends up below the second and third crates:\n",
    "\n",
    "        [Z]\n",
    "        [N]\n",
    "    [C] [D]\n",
    "    [M] [P]\n",
    " 1   2   3\n",
    "Then, both crates are moved from stack 2 to stack 1. Again, because crates are moved one at a time, crate C ends up below crate M:\n",
    "\n",
    "        [Z]\n",
    "        [N]\n",
    "[M]     [D]\n",
    "[C]     [P]\n",
    " 1   2   3\n",
    "Finally, one crate is moved from stack 1 to stack 2:\n",
    "\n",
    "        [Z]\n",
    "        [N]\n",
    "        [D]\n",
    "[C] [M] [P]\n",
    " 1   2   3\n",
    "The Elves just need to know which crate will end up on top of each stack; in this example, the top crates are C in stack 1, M in stack 2, and Z in stack 3, so you should combine these together and give the Elves the message CMZ.\n",
    "\n",
    "After the rearrangement procedure completes, what crate ends up on top of each stack?"
   ]
  },
  {
   "cell_type": "code",
   "execution_count": 18,
   "id": "302157dd-9efb-469c-9d56-f6bfaeb8c19c",
   "metadata": {},
   "outputs": [],
   "source": [
    "import pandas as pd\n",
    "import numpy as np\n",
    "import re\n",
    "import os\n",
    "import math"
   ]
  },
  {
   "cell_type": "code",
   "execution_count": 92,
   "id": "6f869b1f-91e5-49c5-a2b5-7802dad9b28a",
   "metadata": {},
   "outputs": [
    {
     "data": {
      "text/plain": [
       "511"
      ]
     },
     "execution_count": 92,
     "metadata": {},
     "output_type": "execute_result"
    }
   ],
   "source": [
    "with open('input_day05.txt', 'rt') as f:\n",
    "    input = f.read()\n",
    "input=input.splitlines()\n",
    "len(input)"
   ]
  },
  {
   "cell_type": "code",
   "execution_count": 84,
   "id": "28ab2770-3cf8-4047-8005-17967318ab3e",
   "metadata": {},
   "outputs": [
    {
     "name": "stdout",
     "output_type": "stream",
     "text": [
      "            [C]         [N] [R]    \n",
      "[J] [T]     [H]         [P] [L]    \n",
      "[F] [S] [T] [B]         [M] [D]    \n",
      "[C] [L] [J] [Z] [S]     [L] [B]    \n",
      "[N] [Q] [G] [J] [J]     [F] [F] [R]\n",
      "[D] [V] [B] [L] [B] [Q] [D] [M] [T]\n",
      "[B] [Z] [Z] [T] [V] [S] [V] [S] [D]\n",
      "[W] [P] [P] [D] [G] [P] [B] [P] [V]\n",
      " 1   2   3   4   5   6   7   8   9 \n",
      "[['W', 'B', 'D', 'N', 'C', 'F', 'J'], ['P', 'Z', 'V', 'Q', 'L', 'S', 'T'], ['P', 'Z', 'B', 'G', 'J', 'T'], ['D', 'T', 'L', 'J', 'Z', 'B', 'H', 'C'], ['G', 'V', 'B', 'J', 'S'], ['P', 'S', 'Q'], ['B', 'V', 'D', 'F', 'L', 'M', 'P', 'N'], ['P', 'S', 'M', 'F', 'B', 'D', 'L', 'R'], ['V', 'D', 'T', 'R']]\n"
     ]
    },
    {
     "data": {
      "text/plain": [
       "'LBLVVTVLP'"
      ]
     },
     "execution_count": 84,
     "metadata": {},
     "output_type": "execute_result"
    }
   ],
   "source": [
    "stacks=None\n",
    "n=0\n",
    "for ln, l in enumerate(input):\n",
    "    print(l)\n",
    "    if l.find('[')==-1:\n",
    "        break\n",
    "    if n==0:\n",
    "        n=len(l)//4+1\n",
    "        stacks=[[] for i in range(n)]\n",
    "    for i in range(n):\n",
    "#        print(i, c)\n",
    "        c = l[i*4+1:i*4+2]\n",
    "        if c != ' ':\n",
    "             stacks[i].insert(0, c)\n",
    "#             print(i, c, stacks[i])\n",
    "print(stacks)\n",
    "for l in input[ln+2:]:\n",
    "    c=re.split('[^0-9]+', l)[1:]\n",
    "    s=int(c[1])-1\n",
    "    d=int(c[2])-1\n",
    "    n=int(c[0])\n",
    "    stacks[d].extend(stacks[s][-n:][::-1])\n",
    "    stacks[s]=stacks[s][0:-n]\n",
    "\n",
    "''.join([s[-1] if len(s) > 0 else ' ' for s in stacks])"
   ]
  },
  {
   "cell_type": "raw",
   "id": "e49482ac-2255-4166-9bc6-ad5c5dcf09ae",
   "metadata": {},
   "source": [
    "--- Part Two ---\n",
    "\n",
    "As you watch the crane operator expertly rearrange the crates, you notice the process isn't following your prediction.\n",
    "\n",
    "Some mud was covering the writing on the side of the crane, and you quickly wipe it away. The crane isn't a CrateMover 9000 - it's a CrateMover 9001.\n",
    "\n",
    "The CrateMover 9001 is notable for many new and exciting features: air conditioning, leather seats, an extra cup holder, and the ability to pick up and move multiple crates at once.\n",
    "\n",
    "Again considering the example above, the crates begin in the same configuration:\n",
    "\n",
    "    [D]    \n",
    "[N] [C]    \n",
    "[Z] [M] [P]\n",
    " 1   2   3 \n",
    "Moving a single crate from stack 2 to stack 1 behaves the same as before:\n",
    "\n",
    "[D]        \n",
    "[N] [C]    \n",
    "[Z] [M] [P]\n",
    " 1   2   3 \n",
    "However, the action of moving three crates from stack 1 to stack 3 means that those three moved crates stay in the same order, resulting in this new configuration:\n",
    "\n",
    "        [D]\n",
    "        [N]\n",
    "    [C] [Z]\n",
    "    [M] [P]\n",
    " 1   2   3\n",
    "Next, as both crates are moved from stack 2 to stack 1, they retain their order as well:\n",
    "\n",
    "        [D]\n",
    "        [N]\n",
    "[C]     [Z]\n",
    "[M]     [P]\n",
    " 1   2   3\n",
    "Finally, a single crate is still moved from stack 1 to stack 2, but now it's crate C that gets moved:\n",
    "\n",
    "        [D]\n",
    "        [N]\n",
    "        [Z]\n",
    "[M] [C] [P]\n",
    " 1   2   3\n",
    "In this example, the CrateMover 9001 has put the crates in a totally different order: MCD.\n",
    "\n",
    "Before the rearrangement process finishes, update your simulation so that the Elves know where they should stand to be ready to unload the final supplies. After the rearrangement procedure completes, what crate ends up on top of each stack?\n",
    "\n"
   ]
  },
  {
   "cell_type": "code",
   "execution_count": 90,
   "id": "8ab3e2f7-1d10-4199-b92f-7ed10e444bcc",
   "metadata": {},
   "outputs": [
    {
     "data": {
      "text/plain": [
       "511"
      ]
     },
     "execution_count": 90,
     "metadata": {},
     "output_type": "execute_result"
    }
   ],
   "source": [
    "with open('input_day05.txt', 'rt') as f:\n",
    "    input = f.read()\n",
    "input=input.splitlines()\n",
    "len(input)"
   ]
  },
  {
   "cell_type": "code",
   "execution_count": 91,
   "id": "82e1c157-14ca-422c-9891-17538a4ed25c",
   "metadata": {},
   "outputs": [
    {
     "name": "stdout",
     "output_type": "stream",
     "text": [
      "            [C]         [N] [R]    \n",
      "[J] [T]     [H]         [P] [L]    \n",
      "[F] [S] [T] [B]         [M] [D]    \n",
      "[C] [L] [J] [Z] [S]     [L] [B]    \n",
      "[N] [Q] [G] [J] [J]     [F] [F] [R]\n",
      "[D] [V] [B] [L] [B] [Q] [D] [M] [T]\n",
      "[B] [Z] [Z] [T] [V] [S] [V] [S] [D]\n",
      "[W] [P] [P] [D] [G] [P] [B] [P] [V]\n",
      " 1   2   3   4   5   6   7   8   9 \n",
      "[['W', 'B', 'D', 'N', 'C', 'F', 'J'], ['P', 'Z', 'V', 'Q', 'L', 'S', 'T'], ['P', 'Z', 'B', 'G', 'J', 'T'], ['D', 'T', 'L', 'J', 'Z', 'B', 'H', 'C'], ['G', 'V', 'B', 'J', 'S'], ['P', 'S', 'Q'], ['B', 'V', 'D', 'F', 'L', 'M', 'P', 'N'], ['P', 'S', 'M', 'F', 'B', 'D', 'L', 'R'], ['V', 'D', 'T', 'R']]\n"
     ]
    },
    {
     "data": {
      "text/plain": [
       "'TPFFBDRJD'"
      ]
     },
     "execution_count": 91,
     "metadata": {},
     "output_type": "execute_result"
    }
   ],
   "source": [
    "stacks=None\n",
    "n=0\n",
    "for ln, l in enumerate(input):\n",
    "    print(l)\n",
    "    if l.find('[')==-1:\n",
    "        break\n",
    "    if n==0:\n",
    "        n=len(l)//4+1\n",
    "        stacks=[[] for i in range(n)]\n",
    "    for i in range(n):\n",
    "#        print(i, c)\n",
    "        c = l[i*4+1:i*4+2]\n",
    "        if c != ' ':\n",
    "             stacks[i].insert(0, c)\n",
    "#             print(i, c, stacks[i])\n",
    "print(stacks)\n",
    "for l in input[ln+2:]:\n",
    "    c=re.split('[^0-9]+', l)[1:]\n",
    "    s=int(c[1])-1\n",
    "    d=int(c[2])-1\n",
    "    n=int(c[0])\n",
    "    stacks[d].extend(stacks[s][-n:])\n",
    "    stacks[s]=stacks[s][0:-n]\n",
    "\n",
    "''.join([s[-1] if len(s) > 0 else ' ' for s in stacks])"
   ]
  },
  {
   "cell_type": "code",
   "execution_count": 48,
   "id": "f70dba54-964b-4085-abc9-ec79d291643a",
   "metadata": {},
   "outputs": [
    {
     "data": {
      "text/plain": [
       "['D']"
      ]
     },
     "execution_count": 48,
     "metadata": {},
     "output_type": "execute_result"
    }
   ],
   "source": [
    "stacks[d-1].extend(stacks[s-1][-n:])"
   ]
  },
  {
   "cell_type": "code",
   "execution_count": 74,
   "id": "e44ed8a8-a99a-4034-8790-2a8aeaa73f94",
   "metadata": {},
   "outputs": [
    {
     "data": {
      "text/plain": [
       "[0, 0, 0, 1]"
      ]
     },
     "execution_count": 74,
     "metadata": {},
     "output_type": "execute_result"
    }
   ],
   "source": [
    "[0]*3+[1]"
   ]
  },
  {
   "cell_type": "code",
   "execution_count": null,
   "id": "dbaf7d11-80bd-49da-8621-6249ffeec452",
   "metadata": {},
   "outputs": [],
   "source": []
  }
 ],
 "metadata": {
  "kernelspec": {
   "display_name": "Python 3 (ipykernel)",
   "language": "python",
   "name": "python3"
  },
  "language_info": {
   "codemirror_mode": {
    "name": "ipython",
    "version": 3
   },
   "file_extension": ".py",
   "mimetype": "text/x-python",
   "name": "python",
   "nbconvert_exporter": "python",
   "pygments_lexer": "ipython3",
   "version": "3.10.7"
  }
 },
 "nbformat": 4,
 "nbformat_minor": 5
}
