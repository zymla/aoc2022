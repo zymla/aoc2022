{
 "cells": [
  {
   "cell_type": "raw",
   "id": "5ccbf44b-0131-4ee1-988d-b50c989c5454",
   "metadata": {},
   "source": [
    "--- Day 7: No Space Left On Device ---\n",
    "\n",
    "You can hear birds chirping and raindrops hitting leaves as the expedition proceeds. Occasionally, you can even hear much louder sounds in the distance; how big do the animals get out here, anyway?\n",
    "\n",
    "The device the Elves gave you has problems with more than just its communication system. You try to run a system update:\n",
    "\n",
    "$ system-update --please --pretty-please-with-sugar-on-top\n",
    "Error: No space left on device\n",
    "Perhaps you can delete some files to make space for the update?\n",
    "\n",
    "You browse around the filesystem to assess the situation and save the resulting terminal output (your puzzle input). For example:\n",
    "\n",
    "$ cd /\n",
    "$ ls\n",
    "dir a\n",
    "14848514 b.txt\n",
    "8504156 c.dat\n",
    "dir d\n",
    "$ cd a\n",
    "$ ls\n",
    "dir e\n",
    "29116 f\n",
    "2557 g\n",
    "62596 h.lst\n",
    "$ cd e\n",
    "$ ls\n",
    "584 i\n",
    "$ cd ..\n",
    "$ cd ..\n",
    "$ cd d\n",
    "$ ls\n",
    "4060174 j\n",
    "8033020 d.log\n",
    "5626152 d.ext\n",
    "7214296 k\n",
    "The filesystem consists of a tree of files (plain data) and directories (which can contain other directories or files). The outermost directory is called /. You can navigate around the filesystem, moving into or out of directories and listing the contents of the directory you're currently in.\n",
    "\n",
    "Within the terminal output, lines that begin with $ are commands you executed, very much like some modern computers:\n",
    "\n",
    "cd means change directory. This changes which directory is the current directory, but the specific result depends on the argument:\n",
    "cd x moves in one level: it looks in the current directory for the directory named x and makes it the current directory.\n",
    "cd .. moves out one level: it finds the directory that contains the current directory, then makes that directory the current directory.\n",
    "cd / switches the current directory to the outermost directory, /.\n",
    "ls means list. It prints out all of the files and directories immediately contained by the current directory:\n",
    "123 abc means that the current directory contains a file named abc with size 123.\n",
    "dir xyz means that the current directory contains a directory named xyz.\n",
    "Given the commands and output in the example above, you can determine that the filesystem looks visually like this:\n",
    "\n",
    "- / (dir)\n",
    "  - a (dir)\n",
    "    - e (dir)\n",
    "      - i (file, size=584)\n",
    "    - f (file, size=29116)\n",
    "    - g (file, size=2557)\n",
    "    - h.lst (file, size=62596)\n",
    "  - b.txt (file, size=14848514)\n",
    "  - c.dat (file, size=8504156)\n",
    "  - d (dir)\n",
    "    - j (file, size=4060174)\n",
    "    - d.log (file, size=8033020)\n",
    "    - d.ext (file, size=5626152)\n",
    "    - k (file, size=7214296)\n",
    "Here, there are four directories: / (the outermost directory), a and d (which are in /), and e (which is in a). These directories also contain files of various sizes.\n",
    "\n",
    "Since the disk is full, your first step should probably be to find directories that are good candidates for deletion. To do this, you need to determine the total size of each directory. The total size of a directory is the sum of the sizes of the files it contains, directly or indirectly. (Directories themselves do not count as having any intrinsic size.)\n",
    "\n",
    "The total sizes of the directories above can be found as follows:\n",
    "\n",
    "The total size of directory e is 584 because it contains a single file i of size 584 and no other directories.\n",
    "The directory a has total size 94853 because it contains files f (size 29116), g (size 2557), and h.lst (size 62596), plus file i indirectly (a contains e which contains i).\n",
    "Directory d has total size 24933642.\n",
    "As the outermost directory, / contains every file. Its total size is 48381165, the sum of the size of every file.\n",
    "To begin, find all of the directories with a total size of at most 100000, then calculate the sum of their total sizes. In the example above, these directories are a and e; the sum of their total sizes is 95437 (94853 + 584). (As in this example, this process can count files more than once!)\n",
    "\n",
    "Find all of the directories with a total size of at most 100000. What is the sum of the total sizes of those directories?"
   ]
  },
  {
   "cell_type": "code",
   "execution_count": 1,
   "id": "302157dd-9efb-469c-9d56-f6bfaeb8c19c",
   "metadata": {},
   "outputs": [],
   "source": [
    "import pandas as pd\n",
    "import numpy as np\n",
    "import re\n",
    "import os\n",
    "import math"
   ]
  },
  {
   "cell_type": "code",
   "execution_count": 2,
   "id": "6f869b1f-91e5-49c5-a2b5-7802dad9b28a",
   "metadata": {},
   "outputs": [
    {
     "data": {
      "text/plain": [
       "1010"
      ]
     },
     "execution_count": 2,
     "metadata": {},
     "output_type": "execute_result"
    }
   ],
   "source": [
    "with open('input_day07.txt', 'rt') as f:\n",
    "    data = f.read()\n",
    "data=data.splitlines()\n",
    "len(data)"
   ]
  },
  {
   "cell_type": "code",
   "execution_count": 3,
   "id": "28ab2770-3cf8-4047-8005-17967318ab3e",
   "metadata": {},
   "outputs": [
    {
     "data": {
      "text/plain": [
       "1517599"
      ]
     },
     "execution_count": 3,
     "metadata": {},
     "output_type": "execute_result"
    }
   ],
   "source": [
    "wd=['root']\n",
    "flat={}\n",
    "for x in data:\n",
    "#    print(x)\n",
    "    if x[0]=='$':\n",
    "        # close previous dir\n",
    "        \n",
    "        if x[2:4]=='cd':\n",
    "            if x[5:]=='/':\n",
    "                wd=['root']\n",
    "            else:\n",
    "                assert x[5]!='/'\n",
    "                if x[5:]=='..':\n",
    "                    wd.pop()\n",
    "                else:\n",
    "                    wd.append(x[5:])\n",
    "        if x[2:4]=='ls':\n",
    "            flat['/'.join(wd)]=0\n",
    "    else:\n",
    "        s,name = x.split(' ')\n",
    "        if s!='dir':\n",
    "            s=int(s)\n",
    "            for i in range(len(wd)):\n",
    "                flat['/'.join(wd[0:i+1])]=flat['/'.join(wd[0:i+1])]+s\n",
    "\n",
    "sum([s for name, s in flat.items() if s <= 100000])                "
   ]
  },
  {
   "cell_type": "raw",
   "id": "4c402a88-3718-4f1a-96a7-f131a5b5985e",
   "metadata": {},
   "source": [
    "--- Part Two ---\n",
    "\n",
    "Now, you're ready to choose a directory to delete.\n",
    "\n",
    "The total disk space available to the filesystem is 70000000. To run the update, you need unused space of at least 30000000. You need to find a directory you can delete that will free up enough space to run the update.\n",
    "\n",
    "In the example above, the total size of the outermost directory (and thus the total amount of used space) is 48381165; this means that the size of the unused space must currently be 21618835, which isn't quite the 30000000 required by the update. Therefore, the update still requires a directory with total size of at least 8381165 to be deleted before it can run.\n",
    "\n",
    "To achieve this, you have the following options:\n",
    "\n",
    "Delete directory e, which would increase unused space by 584.\n",
    "Delete directory a, which would increase unused space by 94853.\n",
    "Delete directory d, which would increase unused space by 24933642.\n",
    "Delete directory /, which would increase unused space by 48381165.\n",
    "Directories e and a are both too small; deleting them would not free up enough space. However, directories d and / are both big enough! Between these, choose the smallest: d, increasing unused space by 24933642.\n",
    "\n",
    "Find the smallest directory that, if deleted, would free up enough space on the filesystem to run the update. What is the total size of that directory?\n",
    "\n"
   ]
  },
  {
   "cell_type": "code",
   "execution_count": 4,
   "id": "8ab3e2f7-1d10-4199-b92f-7ed10e444bcc",
   "metadata": {},
   "outputs": [],
   "source": [
    "total  = 70000000\n",
    "needed = 30000000"
   ]
  },
  {
   "cell_type": "code",
   "execution_count": 5,
   "id": "82e1c157-14ca-422c-9891-17538a4ed25c",
   "metadata": {},
   "outputs": [
    {
     "data": {
      "text/plain": [
       "{'root': 42476859,\n",
       " 'root/hhhtrws': 10632043,\n",
       " 'root/hhhtrws/gcbg': 3658797,\n",
       " 'root/hhhtrws/jjgpvcqv': 6259122,\n",
       " 'root/ldmsq': 8687846,\n",
       " 'root/ldmsq/rtsmnzm': 2842225,\n",
       " 'root/ldmsq/wsd': 3622162,\n",
       " 'root/pqcndb': 17831881,\n",
       " 'root/pqcndb/gpcpgfh': 5416300,\n",
       " 'root/pqcndb/gpcpgfh/rbh': 2481982,\n",
       " 'root/pqcndb/jjgpvcqv': 4424554,\n",
       " 'root/pqcndb/pftswtnl': 5349656,\n",
       " 'root/pqcndb/pftswtnl/swgdh': 2615714,\n",
       " 'root/pwtqzwv': 4131645}"
      ]
     },
     "execution_count": 5,
     "metadata": {},
     "output_type": "execute_result"
    }
   ],
   "source": [
    "{name:s for name, s in flat.items() if s >= needed-(total-flat['root'])}"
   ]
  },
  {
   "cell_type": "code",
   "execution_count": 6,
   "id": "dbaf7d11-80bd-49da-8621-6249ffeec452",
   "metadata": {},
   "outputs": [
    {
     "data": {
      "text/plain": [
       "('root/pqcndb/gpcpgfh/rbh', 2481982)"
      ]
     },
     "execution_count": 6,
     "metadata": {},
     "output_type": "execute_result"
    }
   ],
   "source": [
    "sorted([(k,v) for k,v in {name:s for name, s in flat.items() if s >= needed-(total-flat['root'])}.items()], key=lambda x: x[1])[0]"
   ]
  },
  {
   "cell_type": "code",
   "execution_count": null,
   "id": "f85d63e2-128a-4423-b35d-c15bb5c265fb",
   "metadata": {},
   "outputs": [],
   "source": []
  }
 ],
 "metadata": {
  "kernelspec": {
   "display_name": "Python 3 (ipykernel)",
   "language": "python",
   "name": "python3"
  },
  "language_info": {
   "codemirror_mode": {
    "name": "ipython",
    "version": 3
   },
   "file_extension": ".py",
   "mimetype": "text/x-python",
   "name": "python",
   "nbconvert_exporter": "python",
   "pygments_lexer": "ipython3",
   "version": "3.10.7"
  }
 },
 "nbformat": 4,
 "nbformat_minor": 5
}
