{
 "cells": [
  {
   "cell_type": "raw",
   "id": "5ccbf44b-0131-4ee1-988d-b50c989c5454",
   "metadata": {},
   "source": [
    "--- Day 8: Treetop Tree House ---\n",
    "\n",
    "The expedition comes across a peculiar patch of tall trees all planted carefully in a grid. The Elves explain that a previous expedition planted these trees as a reforestation effort. Now, they're curious if this would be a good location for a tree house.\n",
    "\n",
    "First, determine whether there is enough tree cover here to keep a tree house hidden. To do this, you need to count the number of trees that are visible from outside the grid when looking directly along a row or column.\n",
    "\n",
    "The Elves have already launched a quadcopter to generate a map with the height of each tree (your puzzle input). For example:\n",
    "\n",
    "30373\n",
    "25512\n",
    "65332\n",
    "33549\n",
    "35390\n",
    "Each tree is represented as a single digit whose value is its height, where 0 is the shortest and 9 is the tallest.\n",
    "\n",
    "A tree is visible if all of the other trees between it and an edge of the grid are shorter than it. Only consider trees in the same row or column; that is, only look up, down, left, or right from any given tree.\n",
    "\n",
    "All of the trees around the edge of the grid are visible - since they are already on the edge, there are no trees to block the view. In this example, that only leaves the interior nine trees to consider:\n",
    "\n",
    "The top-left 5 is visible from the left and top. (It isn't visible from the right or bottom since other trees of height 5 are in the way.)\n",
    "The top-middle 5 is visible from the top and right.\n",
    "The top-right 1 is not visible from any direction; for it to be visible, there would need to only be trees of height 0 between it and an edge.\n",
    "The left-middle 5 is visible, but only from the right.\n",
    "The center 3 is not visible from any direction; for it to be visible, there would need to be only trees of at most height 2 between it and an edge.\n",
    "The right-middle 3 is visible from the right.\n",
    "In the bottom row, the middle 5 is visible, but the 3 and 4 are not.\n",
    "With 16 trees visible on the edge and another 5 visible in the interior, a total of 21 trees are visible in this arrangement.\n",
    "\n",
    "Consider your map; how many trees are visible from outside the grid?"
   ]
  },
  {
   "cell_type": "code",
   "execution_count": 1,
   "id": "302157dd-9efb-469c-9d56-f6bfaeb8c19c",
   "metadata": {},
   "outputs": [],
   "source": [
    "import pandas as pd\n",
    "import numpy as np\n",
    "import re\n",
    "import os\n",
    "import math\n",
    "from operator import itemgetter, attrgetter"
   ]
  },
  {
   "cell_type": "code",
   "execution_count": 2,
   "id": "6f869b1f-91e5-49c5-a2b5-7802dad9b28a",
   "metadata": {},
   "outputs": [
    {
     "data": {
      "text/plain": [
       "9900"
      ]
     },
     "execution_count": 2,
     "metadata": {},
     "output_type": "execute_result"
    }
   ],
   "source": [
    "with open('input_day08.txt', 'rt') as f:\n",
    "    data = f.read()\n",
    "#data=data.splitlines()\n",
    "len(data)"
   ]
  },
  {
   "cell_type": "code",
   "execution_count": 3,
   "id": "7c6eeb8c-1874-475e-9e8c-03bdeb5a3550",
   "metadata": {},
   "outputs": [],
   "source": [
    "data_array=np.pad(np.array([[int(x) for x in r] for r in data.splitlines()])+1, ((1,1),(1,1)))\n",
    "#data_array"
   ]
  },
  {
   "cell_type": "code",
   "execution_count": 4,
   "id": "ef220d7a-237d-4c5d-b27f-aee98c094cdd",
   "metadata": {},
   "outputs": [],
   "source": [
    "visible_top=np.roll(np.maximum.accumulate(data_array, axis=0)<np.roll(data_array, shift=-1, axis=0), shift=1, axis=0)\n",
    "visible_bottom=np.roll(np.maximum.accumulate(data_array[::-1,:], axis=0)[::-1,:]<np.roll(data_array, shift=1, axis=0), shift=-1, axis=0)\n",
    "visible_left=np.roll(np.maximum.accumulate(data_array, axis=1)<np.roll(data_array, shift=-1, axis=1), shift=1, axis=1)\n",
    "visible_rigth=np.roll(np.maximum.accumulate(data_array[:,::-1], axis=1)[:,::-1]<np.roll(data_array, shift=1, axis=1), shift=-1, axis=1)\n",
    "visible=visible_top|visible_bottom|visible_left|visible_rigth\n",
    "#visible"
   ]
  },
  {
   "cell_type": "code",
   "execution_count": 5,
   "id": "1395e090-5955-4edf-9849-c457e7d57a5a",
   "metadata": {},
   "outputs": [
    {
     "data": {
      "text/plain": [
       "1789"
      ]
     },
     "execution_count": 5,
     "metadata": {},
     "output_type": "execute_result"
    }
   ],
   "source": [
    "sum(sum(visible))"
   ]
  },
  {
   "cell_type": "raw",
   "id": "d8546c64-19ea-4160-9e4f-e63cb91cebdc",
   "metadata": {},
   "source": [
    "--- Part Two ---\n",
    "\n",
    "Content with the amount of tree cover available, the Elves just need to know the best spot to build their tree house: they would like to be able to see a lot of trees.\n",
    "\n",
    "To measure the viewing distance from a given tree, look up, down, left, and right from that tree; stop if you reach an edge or at the first tree that is the same height or taller than the tree under consideration. (If a tree is right on the edge, at least one of its viewing distances will be zero.)\n",
    "\n",
    "The Elves don't care about distant trees taller than those found by the rules above; the proposed tree house has large eaves to keep it dry, so they wouldn't be able to see higher than the tree house anyway.\n",
    "\n",
    "In the example above, consider the middle 5 in the second row:\n",
    "\n",
    "30373\n",
    "25512\n",
    "65332\n",
    "33549\n",
    "35390\n",
    "Looking up, its view is not blocked; it can see 1 tree (of height 3).\n",
    "Looking left, its view is blocked immediately; it can see only 1 tree (of height 5, right next to it).\n",
    "Looking right, its view is not blocked; it can see 2 trees.\n",
    "Looking down, its view is blocked eventually; it can see 2 trees (one of height 3, then the tree of height 5 that blocks its view).\n",
    "A tree's scenic score is found by multiplying together its viewing distance in each of the four directions. For this tree, this is 4 (found by multiplying 1 * 1 * 2 * 2).\n",
    "\n",
    "However, you can do even better: consider the tree of height 5 in the middle of the fourth row:\n",
    "\n",
    "30373\n",
    "25512\n",
    "65332\n",
    "33549\n",
    "35390\n",
    "Looking up, its view is blocked at 2 trees (by another tree with a height of 5).\n",
    "Looking left, its view is not blocked; it can see 2 trees.\n",
    "Looking down, its view is also not blocked; it can see 1 tree.\n",
    "Looking right, its view is blocked at 2 trees (by a massive tree of height 9).\n",
    "This tree's scenic score is 8 (2 * 2 * 1 * 2); this is the ideal spot for the tree house.\n",
    "\n",
    "Consider each tree on your map. What is the highest scenic score possible for any tree?"
   ]
  },
  {
   "cell_type": "code",
   "execution_count": 6,
   "id": "dbaf7d11-80bd-49da-8621-6249ffeec452",
   "metadata": {},
   "outputs": [],
   "source": [
    "count=(data_array>0)*0\n",
    "for i,r in enumerate(data_array):\n",
    "    keep_going=(r>0)*1\n",
    "    count[i]=(r>0)*0\n",
    "    for ii, rr in enumerate(data_array[i+1:-1,:]):\n",
    "        count[i]=count[i]+keep_going\n",
    "        keep_going=keep_going*(r>rr)*(rr>0)\n",
    "count_top=count\n",
    "#print(count_top)\n",
    "#print()\n",
    "\n",
    "count=(data_array>0)*0\n",
    "for i,r in enumerate(data_array[::-1,:]):\n",
    "    keep_going=(r>0)*1\n",
    "    count[i]=(r>0)*0\n",
    "    for ii, rr in enumerate(data_array[::-1,:][i+1:-1,:]):\n",
    "        count[i]=count[i]+keep_going\n",
    "        keep_going=keep_going*(r>rr)*(rr>0)\n",
    "\n",
    "count_bottom=count[::-1,:]\n",
    "#print(count_bottom)\n",
    "\n",
    "count=(data_array>0)*0\n",
    "for i,r in enumerate(data_array.transpose()):\n",
    "    keep_going=(r>0)*1\n",
    "    count[i]=(r>0)*0\n",
    "    for ii, rr in enumerate(data_array.transpose()[i+1:-1,:]):\n",
    "        count[i]=count[i]+keep_going\n",
    "        keep_going=keep_going*(r>rr)*(rr>0)\n",
    "count_left=count.transpose()\n",
    "#print(count_left)\n",
    "\n",
    "count=(data_array>0)*0\n",
    "for i,r in enumerate(data_array.transpose()[::-1,:]):\n",
    "    keep_going=(r>0)*1\n",
    "    count[i]=(r>0)*0\n",
    "    for ii, rr in enumerate(data_array.transpose()[::-1,:][i+1:-1,:]):\n",
    "        count[i]=count[i]+keep_going\n",
    "        keep_going=keep_going*(r>rr)*(rr>0)\n",
    "count_right=count[::-1,:].transpose()\n",
    "#print(count_right)"
   ]
  },
  {
   "cell_type": "code",
   "execution_count": 7,
   "id": "6d410c07-6d76-4651-a132-0ba850fa7f8e",
   "metadata": {},
   "outputs": [
    {
     "data": {
      "text/plain": [
       "314820"
      ]
     },
     "execution_count": 7,
     "metadata": {},
     "output_type": "execute_result"
    }
   ],
   "source": [
    "np.max((count_left*count_right*count_bottom*count_top))"
   ]
  },
  {
   "cell_type": "code",
   "execution_count": null,
   "id": "aae29e5c-01ff-4f3c-a5f0-e606f6629961",
   "metadata": {},
   "outputs": [],
   "source": []
  },
  {
   "cell_type": "code",
   "execution_count": null,
   "id": "4b4ff52a-185b-4951-9e12-42ba68069125",
   "metadata": {},
   "outputs": [],
   "source": []
  }
 ],
 "metadata": {
  "kernelspec": {
   "display_name": "Python 3 (ipykernel)",
   "language": "python",
   "name": "python3"
  },
  "language_info": {
   "codemirror_mode": {
    "name": "ipython",
    "version": 3
   },
   "file_extension": ".py",
   "mimetype": "text/x-python",
   "name": "python",
   "nbconvert_exporter": "python",
   "pygments_lexer": "ipython3",
   "version": "3.10.7"
  }
 },
 "nbformat": 4,
 "nbformat_minor": 5
}
