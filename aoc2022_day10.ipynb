{
 "cells": [
  {
   "cell_type": "raw",
   "id": "5ccbf44b-0131-4ee1-988d-b50c989c5454",
   "metadata": {},
   "source": []
  },
  {
   "cell_type": "code",
   "execution_count": null,
   "id": "302157dd-9efb-469c-9d56-f6bfaeb8c19c",
   "metadata": {},
   "outputs": [],
   "source": [
    "import pandas as pd\n",
    "import numpy as np\n",
    "import re\n",
    "import os\n",
    "import math\n",
    "from operator import itemgetter, attrgetter"
   ]
  },
  {
   "cell_type": "code",
   "execution_count": null,
   "id": "6f869b1f-91e5-49c5-a2b5-7802dad9b28a",
   "metadata": {},
   "outputs": [],
   "source": [
    "with open('input_day05.txt', 'rt') as f:\n",
    "    data = f.read()\n",
    "data=data.splitlines()\n",
    "len(data)"
   ]
  },
  {
   "cell_type": "code",
   "execution_count": null,
   "id": "28ab2770-3cf8-4047-8005-17967318ab3e",
   "metadata": {},
   "outputs": [],
   "source": []
  },
  {
   "cell_type": "raw",
   "id": "e49482ac-2255-4166-9bc6-ad5c5dcf09ae",
   "metadata": {},
   "source": []
  },
  {
   "cell_type": "code",
   "execution_count": null,
   "id": "8ab3e2f7-1d10-4199-b92f-7ed10e444bcc",
   "metadata": {},
   "outputs": [],
   "source": [
    "with open('input_day05.txt', 'rt') as f:\n",
    "    data = f.read()\n",
    "data=data.splitlines()\n",
    "len(data)"
   ]
  },
  {
   "cell_type": "code",
   "execution_count": null,
   "id": "82e1c157-14ca-422c-9891-17538a4ed25c",
   "metadata": {},
   "outputs": [],
   "source": []
  },
  {
   "cell_type": "code",
   "execution_count": null,
   "id": "dbaf7d11-80bd-49da-8621-6249ffeec452",
   "metadata": {},
   "outputs": [],
   "source": []
  }
 ],
 "metadata": {
  "kernelspec": {
   "display_name": "Python 3 (ipykernel)",
   "language": "python",
   "name": "python3"
  },
  "language_info": {
   "codemirror_mode": {
    "name": "ipython",
    "version": 3
   },
   "file_extension": ".py",
   "mimetype": "text/x-python",
   "name": "python",
   "nbconvert_exporter": "python",
   "pygments_lexer": "ipython3",
   "version": "3.10.7"
  }
 },
 "nbformat": 4,
 "nbformat_minor": 5
}
